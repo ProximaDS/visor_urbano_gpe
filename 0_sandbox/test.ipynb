{
 "cells": [
  {
   "cell_type": "code",
   "execution_count": null,
   "metadata": {},
   "outputs": [],
   "source": [
    "# Servir los Tiles en un host"
   ]
  },
  {
   "cell_type": "code",
   "execution_count": 3,
   "metadata": {},
   "outputs": [
    {
     "name": "stdout",
     "output_type": "stream",
     "text": [
      "Mapa guardado en mapa_con_tiles.html\n"
     ]
    }
   ],
   "source": [
    "import folium \n",
    "\n",
    "# Centro de guadalupe\n",
    "centro = [25.674917838159928, -100.21374844078787]\n",
    "\n",
    "m = folium.Map(location=centro, zoom_start=14)\n",
    "\n",
    "# URL de los tiles (asumiendo que los sirves en localhost en el puerto 8000)\n",
    "tile_url = 'http://localhost:8080/tiles/{z}/{x}/{y}.png'\n",
    "\n",
    "folium.raster_layers.TileLayer(\n",
    "    tiles=tile_url,\n",
    "    attr='Tiles GDAL',\n",
    "    name='Raster Tiles',\n",
    "    overlay=True,\n",
    "    control=True,\n",
    "    tms = True,\n",
    "    min_zoom=14,\n",
    "    max_zoom=20\n",
    ").add_to(m)\n",
    "\n",
    "folium.LayerControl().add_to(m)\n",
    "m.save(\"mapa_con_tiles.html\")\n",
    "\n",
    "print(\"Mapa guardado en mapa_con_tiles.html\")"
   ]
  },
  {
   "cell_type": "code",
   "execution_count": null,
   "metadata": {},
   "outputs": [],
   "source": []
  }
 ],
 "metadata": {
  "kernelspec": {
   "display_name": "venv",
   "language": "python",
   "name": "python3"
  },
  "language_info": {
   "codemirror_mode": {
    "name": "ipython",
    "version": 3
   },
   "file_extension": ".py",
   "mimetype": "text/x-python",
   "name": "python",
   "nbconvert_exporter": "python",
   "pygments_lexer": "ipython3",
   "version": "3.13.2"
  }
 },
 "nbformat": 4,
 "nbformat_minor": 2
}
