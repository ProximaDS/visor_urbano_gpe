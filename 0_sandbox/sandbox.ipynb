{
 "cells": [
  {
   "cell_type": "code",
   "execution_count": null,
   "metadata": {},
   "outputs": [],
   "source": [
    "# .shp load\n",
    "\n",
    "import folium\n",
    "import geopandas as gpd\n",
    "\n",
    "guadalupe = gpd.read_file(r'./19026_vla_ne_mg_2022/190260001/conjunto_de_datos/190260001a.shp')\n",
    "\n",
    "# Ejemplo de límites aproximados de Guadalupe\n",
    "min_lat, max_lat = 25.615803, 25.737869\n",
    "min_lon, max_lon = -100.291511, -100.108863\n",
    "\n",
    "\n",
    "# Coordenadas de centro aproximado de Guadalupe\n",
    "centro_guadalupe = [25.6775, -100.2597]\n",
    "\n",
    "m = folium.Map( max_bounds=True,\n",
    "               location= centro_guadalupe,\n",
    "               zoom_start=12,\n",
    "               min_lat=min_lat,\n",
    "               max_lat=max_lat,\n",
    "               min_lon=min_lon,\n",
    "               max_lon=max_lon,\n",
    ")\n",
    "\n",
    "folium.CircleMarker([max_lat, min_lon], tooltip=\"Upper Left Corner\", color='red').add_to(m)\n",
    "folium.CircleMarker([min_lat, min_lon], tooltip=\"Lower Left Corner\", color='red').add_to(m)\n",
    "folium.CircleMarker([min_lat, max_lon], tooltip=\"Lower Right Corner\", color='red').add_to(m)\n",
    "folium.CircleMarker([max_lat, max_lon], tooltip=\"Upper Right Corner\", color='red').add_to(m)\n",
    "\n",
    "folium.GeoJson(\n",
    "    guadalupe,\n",
    "    name=\"Capa Shapefile\"\n",
    ").add_to(m)\n",
    "\n",
    "m\n",
    "\n",
    "\n",
    "\n"
   ]
  },
  {
   "cell_type": "code",
   "execution_count": null,
   "metadata": {},
   "outputs": [],
   "source": [
    "import subprocess\n",
    "\n",
    "# Ruta del archivo .tif de entrada (asegúrate de que la ruta sea correcta y que esté entre comillas)\n",
    "input_tif = '/Users/proxima/Documents/Proxima/Clientes/UANL/visor_urbano_guadalupe/raster/DEPORTIVO DELFINES.tif'\n",
    "projected_tif = 'dep_del_rep.tif'\n",
    "\n",
    "# Comando para reproyectar a EPSG:3857, envolviendo las rutas en comillas dobles\n",
    "command = f'gdalwarp -t_srs EPSG:3857 \"{input_tif}\" \"{projected_tif}\"'\n",
    "subprocess.run(command, shell=True, check=True)\n",
    "\n",
    "print(\"Reproyección completada:\", projected_tif)\n"
   ]
  },
  {
   "cell_type": "code",
   "execution_count": null,
   "metadata": {},
   "outputs": [],
   "source": [
    "import subprocess\n",
    "\n",
    "projected_tif = '/Users/proxima/Documents/Proxima/Clientes/UANL/visor_urbano_guadalupe/dep_del_rep.tif'\n",
    "tiles_folder = 'tiles'\n",
    "zoom_range = '14-20'\n",
    "\n",
    "# Comando para generar los tiles sin crear un visor web (-w none)\n",
    "command = f\"gdal2tiles.py -z {zoom_range} -w none {projected_tif} {tiles_folder}\"\n",
    "subprocess.run(command, shell=True, check=True)\n",
    "\n",
    "print(\"Tiles generados en la carpeta:\", tiles_folder)\n"
   ]
  },
  {
   "cell_type": "code",
   "execution_count": 1,
   "metadata": {},
   "outputs": [
    {
     "name": "stdout",
     "output_type": "stream",
     "text": [
      "Mapa guardado en mapa_con_tiles.html\n"
     ]
    }
   ],
   "source": [
    "import folium\n",
    "\n",
    "# Centra el mapa. Ajusta estas coordenadas según la extensión de tu raster.\n",
    "centro = [25.671658916865567, -100.24925884994464]  # Reemplaza con las coordenadas centrales adecuadas\n",
    "\n",
    "m = folium.Map(location=centro, zoom_start=14)\n",
    "\n",
    "# URL de los tiles (asumiendo que los sirves en localhost en el puerto 8000)\n",
    "tile_url = 'http://localhost:8000/tiles/{z}/{x}/{y}.png'\n",
    "\n",
    "folium.raster_layers.TileLayer(\n",
    "    tiles=tile_url,\n",
    "    attr='Tiles GDAL',\n",
    "    name='Raster Tiles',\n",
    "    overlay=True,\n",
    "    control=True,\n",
    "    tms = True,\n",
    "    min_zoom=14,\n",
    "    max_zoom=20\n",
    ").add_to(m)\n",
    "\n",
    "folium.LayerControl().add_to(m)\n",
    "m.save(\"mapa_con_tiles.html\")\n",
    "\n",
    "print(\"Mapa guardado en mapa_con_tiles.html\")\n"
   ]
  },
  {
   "cell_type": "code",
   "execution_count": null,
   "metadata": {},
   "outputs": [],
   "source": []
  }
 ],
 "metadata": {
  "kernelspec": {
   "display_name": "venv",
   "language": "python",
   "name": "python3"
  },
  "language_info": {
   "codemirror_mode": {
    "name": "ipython",
    "version": 3
   },
   "file_extension": ".py",
   "mimetype": "text/x-python",
   "name": "python",
   "nbconvert_exporter": "python",
   "pygments_lexer": "ipython3",
   "version": "3.13.2"
  }
 },
 "nbformat": 4,
 "nbformat_minor": 2
}
